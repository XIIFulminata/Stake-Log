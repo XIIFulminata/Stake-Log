{
 "cells": [
  {
   "cell_type": "markdown",
   "metadata": {},
   "source": [
    "# Staking Log"
   ]
  },
  {
   "cell_type": "code",
   "execution_count": null,
   "metadata": {
    "collapsed": false
   },
   "outputs": [],
   "source": [
    "import matplotlib.pyplot as plt\n",
    "import numpy as np"
   ]
  },
  {
   "cell_type": "code",
   "execution_count": null,
   "metadata": {
    "collapsed": false
   },
   "outputs": [],
   "source": [
    "initial = 200\n",
    "values = [5,10,10,20,50,110,30,5,30,50,71,6,2,20,15,40,20,10,1,5,1,3]\n",
    "record = ['W','W','L','L','L','W','W','W','L','L','L','L','L','W','L','L','W','W','W','W','L','W']\n",
    "stakeNum = range(1,len(values)+1)"
   ]
  },
  {
   "cell_type": "code",
   "execution_count": null,
   "metadata": {
    "collapsed": false
   },
   "outputs": [],
   "source": [
    "def totalArray(initial, stakes, conditions):\n",
    "    runningTotal=[]\n",
    "    rt = initial\n",
    "    for i in range(len(stakes)):\n",
    "        if conditions[i]=='W':\n",
    "            rt += stakes[i]\n",
    "            runningTotal.append(rt)\n",
    "        else:\n",
    "            rt -= stakes[i]\n",
    "            runningTotal.append(rt)\n",
    "    return runningTotal\n",
    "runningTotal = totalArray(initial, values, record)"
   ]
  },
  {
   "cell_type": "code",
   "execution_count": null,
   "metadata": {
    "collapsed": false
   },
   "outputs": [],
   "source": [
    "fig = plt.plot(stakeNum,runningTotal)\n",
    "plt.show()\n",
    "print(record)\n",
    "print(runningTotal)\n",
    "print(stakeNum)"
   ]
  },
  {
   "cell_type": "code",
   "execution_count": null,
   "metadata": {
    "collapsed": false
   },
   "outputs": [],
   "source": [
    "import mpld3"
   ]
  },
  {
   "cell_type": "code",
   "execution_count": null,
   "metadata": {
    "collapsed": true
   },
   "outputs": [],
   "source": [
    "def addStake(val,condition):\n",
    "    if condition=='W':\n",
    "            runningTotal.append(runningTotal[-1]+val)\n",
    "    elif condition=='L':     \n",
    "        runningTotal.append(runningTotal[-1]-val)\n",
    "    values.append(val)\n",
    "    record.append(condition)\n",
    "    stakeNum = range(1,len(values)+1)\n",
    "    #print(record)\n",
    "    #print(runningTotal)\n",
    "    #print(stakeNum)\n",
    "    plt.plot(stakeNum,runningTotal)\n",
    "    #plt.show()"
   ]
  },
  {
   "cell_type": "markdown",
   "metadata": {
    "collapsed": false
   },
   "source": [
    "# Session 1"
   ]
  },
  {
   "cell_type": "code",
   "execution_count": null,
   "metadata": {
    "collapsed": true
   },
   "outputs": [],
   "source": [
    "addStake(2,'W')\n",
    "addStake(5,'L')\n",
    "addStake(10,'W')\n",
    "addStake(5,'W')\n",
    "addStake(2,'L')\n",
    "addStake(5,'W')\n",
    "#create endSession() -> total profit loss for session\n",
    "plt.show()"
   ]
  },
  {
   "cell_type": "markdown",
   "metadata": {},
   "source": [
    "# Martingale Simulator"
   ]
  },
  {
   "cell_type": "code",
   "execution_count": null,
   "metadata": {
    "collapsed": true
   },
   "outputs": [],
   "source": []
  }
 ],
 "metadata": {
  "kernelspec": {
   "display_name": "Python 3",
   "language": "python",
   "name": "python3"
  },
  "language_info": {
   "codemirror_mode": {
    "name": "ipython",
    "version": 3
   },
   "file_extension": ".py",
   "mimetype": "text/x-python",
   "name": "python",
   "nbconvert_exporter": "python",
   "pygments_lexer": "ipython3",
   "version": "3.6.0"
  }
 },
 "nbformat": 4,
 "nbformat_minor": 2
}
